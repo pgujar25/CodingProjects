{
  "cells": [
    {
      "cell_type": "code",
      "execution_count": null,
      "metadata": {
        "collapsed": true,
        "id": "muZnudRLZvtT"
      },
      "outputs": [],
      "source": [
        "#@title #Execute This Cell First!\n",
        "#This cell's contents should match those of photon.py\n",
        "#import photon\n",
        "import random\n",
        "import numpy as np\n",
        "\n",
        "class InputError(Exception):\n",
        "    def __int__(self, expression, message):\n",
        "        self.expression = expression\n",
        "        self.message = message\n",
        "\n",
        "class Photon:\n",
        "\n",
        "    def __init__(self, Hcomp=0, Vcomp=0):\n",
        "        self.alpha = Hcomp\n",
        "        self.beta  = Vcomp\n",
        "\n",
        "    # This is for debugging purposes only!\n",
        "    def toString(self):\n",
        "        if np.isreal(self.alpha):\n",
        "            string = str(self.alpha) + \"|H> \"\n",
        "        else:\n",
        "            string = str(self.alpha) + \"|H> \"\n",
        "        if np.isreal(self.beta):\n",
        "            if self.beta >= 0:\n",
        "                string += \"+ \" + str(self.beta) + \"|V>\"\n",
        "            else:\n",
        "                string += \"- \" + str(-self.beta) + \"|V>\"\n",
        "        else:\n",
        "            string += \"+ \" + str(self.beta) + \"|V>\"\n",
        "        return string\n",
        "\n",
        "    def prepareVacuum(self):\n",
        "        energyPerMode = 0.5; # in units of hbar*omega\n",
        "        x0 = np.sqrt(energyPerMode)*random.gauss(0,1)/np.sqrt(2)\n",
        "        y0 = np.sqrt(energyPerMode)*random.gauss(0,1)/np.sqrt(2)\n",
        "        x1 = np.sqrt(energyPerMode)*random.gauss(0,1)/np.sqrt(2)\n",
        "        y1 = np.sqrt(energyPerMode)*random.gauss(0,1)/np.sqrt(2)\n",
        "        self.alpha = complex(x0, y0)\n",
        "        self.beta  = complex(x1, y1)\n",
        "\n",
        "    def prepare(self, alpha, beta, avgPhotonNumber):\n",
        "        if avgPhotonNumber < 0:\n",
        "            raise InputError()\n",
        "        vac = Photon()\n",
        "        vac.prepareVacuum()\n",
        "        self.alpha = alpha * np.sqrt(avgPhotonNumber) + vac.alpha\n",
        "        self.beta  = beta  * np.sqrt(avgPhotonNumber) + vac.beta\n",
        "\n",
        "    def prepareH(self, avgPhotonNumber):\n",
        "        self.prepare(1, 0, avgPhotonNumber)\n",
        "\n",
        "    def prepareV(self, avgPhotonNumber):\n",
        "        self.prepare(0,1, avgPhotonNumber)\n",
        "\n",
        "    def prepareD(self, avgPhotonNumber):\n",
        "        self.prepare(1/np.sqrt(2),  1/np.sqrt(2), avgPhotonNumber)\n",
        "\n",
        "    def prepareA(self, avgPhotonNumber):\n",
        "        self.prepare(1/np.sqrt(2), -1/np.sqrt(2), avgPhotonNumber)\n",
        "\n",
        "    def prepareR(self, avgPhotonNumber):\n",
        "        self.prepare(1/np.sqrt(2),  1j/np.sqrt(2), avgPhotonNumber)\n",
        "\n",
        "    def prepareL(self, avgPhotonNumber):\n",
        "        self.prepare(1/np.sqrt(2), -1j/np.sqrt(2), avgPhotonNumber)\n",
        "\n",
        "    def measureHV(self, probDarkCount):\n",
        "        if probDarkCount < 0 or probDarkCount > 1:\n",
        "            raise InputError\n",
        "        threshold  = -0.5*np.log(1 - np.sqrt(1-probDarkCount))\n",
        "        intensityH = abs(self.alpha)**2\n",
        "        intensityV = abs(self.beta)**2\n",
        "        # The photon is absorbed by the detector:\n",
        "        self.prepareVacuum()\n",
        "        # The outcome is determined by threshold exceedances:\n",
        "        if intensityH <= threshold and intensityV <= threshold:\n",
        "            return \"N\" # no detection (invalid measurement)\n",
        "        elif intensityH >  threshold and intensityV <= threshold:\n",
        "            return \"H\" # single H photon detected\n",
        "        elif intensityH <=  threshold and intensityV > threshold:\n",
        "            return \"V\" # single V photon detected\n",
        "        else:\n",
        "            return \"M\" # multiple detections (invalid measurement)\n",
        "\n",
        "    def measureDA(self, probDarkCount):\n",
        "        a = self.alpha\n",
        "        b = self.beta\n",
        "        self.alpha = (a+b)/np.sqrt(2)\n",
        "        self.beta  = (a-b)/np.sqrt(2)\n",
        "        outcome = self.measureHV(probDarkCount)\n",
        "        if outcome == \"H\": return \"D\"\n",
        "        if outcome == \"V\": return \"A\"\n",
        "        else: return outcome\n",
        "\n",
        "    def measureRL(self, probDarkCount):\n",
        "        a = self.alpha\n",
        "        b = self.beta\n",
        "        self.alpha = (a-b*1j)/np.sqrt(2)\n",
        "        self.beta  = (a+b*1j)/np.sqrt(2)\n",
        "        outcome = self.measureHV(probDarkCount)\n",
        "        if outcome == \"H\": return \"R\"\n",
        "        if outcome == \"V\": return \"L\"\n",
        "        else: return outcome\n",
        "\n",
        "    def applyPolarizer(self, theta, phi):\n",
        "\t# Apply a polarizing filter according to the input parameters.\n",
        "\t# theta=0,    phi=0:     H polarizer\n",
        "\t# theta=pi/2, phi=0:     V polarizer\n",
        "\t# theta=pi/4, phi=0:     D polarizer\n",
        "\t# theta=pi/4, phi=pi:    A polarizer\n",
        "\t# theta=pi/4, phi=+pi/2: R polarizer\n",
        "\t# theta=pi/4, phi=-pi/2: L polarizer\n",
        "        z = np.exp(1j*phi)\n",
        "        a = self.alpha\n",
        "        b = self.beta\n",
        "        self.alpha = a*(1+np.cos(2*theta))/2 + b*np.sin(2*theta)/2*np.conj(z)\n",
        "        self.beta  = a*np.sin(2*theta)/2*z + b*(1-np.cos(2*theta))/2\n",
        "        # Now add an extra vacuum component.\n",
        "        vac = Photon()\n",
        "        vac.prepareVacuum()\n",
        "        a = vac.alpha\n",
        "        b = vac.beta\n",
        "        self.alpha = self.alpha + a*np.sin(theta)**2 + b*(-np.sin(2*theta)/2)*np.conj(z)\n",
        "        self.beta  = self.beta  + a*(-np.sin(2*theta)/2)*z + b*np.cos(theta)**2\n",
        "\n",
        "    def applyUnitaryGate(self, theta, phi, lamb):\n",
        "        U = [[0,0],[0,0]]\n",
        "        z1 = np.exp(1j*phi)\n",
        "        z2 = -np.exp(1j*lamb)\n",
        "        z3 = np.exp(1j*(lamb+phi))\n",
        "        U[0][0] = np.cos(theta/2)\n",
        "        U[1][0] = np.sin(theta/2)*z1\n",
        "        U[0][1] = np.sin(theta/2)*z2\n",
        "        U[1][1] = np.cos(theta/2)*z3\n",
        "        a = self.alpha\n",
        "        b = self.beta\n",
        "        self.alpha = U[0][0]*a + U[0][1]*b\n",
        "        self.beta  = U[1][0]*a + U[1][1]*b\n",
        "\n",
        "    def applyXGate(self):\n",
        "        # Applies the Pauli X gate\n",
        "        self.applyUnitaryGate(np.pi, 0, np.pi)\n",
        "\n",
        "    def applyYGate(self):\n",
        "        # Applies the Pauli Y gate\n",
        "        self.applyUnitaryGate(np.pi, np.pi/2, np.pi/2)\n",
        "\n",
        "    def applyZGate(self):\n",
        "        # Applies the Pauli X gate\n",
        "        self.applyUnitaryGate(0, np.pi, 0)\n",
        "\n",
        "    def applyHGate(self):\n",
        "        # Applied the Hadamard (half-wavelength) gate\n",
        "        self.applyUnitaryGate(np.pi/2, 0, np.pi)\n",
        "\n",
        "    def applyQGate(self):\n",
        "        # Applies the SH (quarter-wavelength) gate\n",
        "        self.applyUnitaryGate(np.pi/2, np.pi/2, np.pi)\n",
        "\n",
        "    def applyNoisyGate(self, p):\n",
        "        # This operation acts as a depolarizing channel.\n",
        "\t# p = 0 leaves the photon unchanged.\n",
        "\t# p = 1 yields a completely random photon.\n",
        "\t# 0 < p < 1 yields a partially random photon.\n",
        "        if p < 0 or p > 1:\n",
        "            raise InputError\n",
        "        theta = np.arccos(1 - 2*random.uniform(0,1)*p)\n",
        "        phi   = p*(2*random.uniform(0,1) - 1)*np.pi\n",
        "        lamb  = p*(2*random.uniform(0,1) - 1)*np.pi\n",
        "        self.applyUnitaryGate(theta, phi, lamb)\n",
        "\n",
        "    def applyAttenuation(self, r):\n",
        "\t# This operation acts as a partially reflecting beam splitter.\n",
        "\t# r = 0 leaves the photon unchanged.\n",
        "\t# r = 1 completely absorbs the photon, leaving a vacuum state.\n",
        "\t# 0 < r < 1 partially attenuates the photon and adds some vacuum.\n",
        "\t# r is the reflectivity.\n",
        "        if r < 0 or r > 1:\n",
        "            raise InputError\n",
        "        t = np.sqrt(1-r*r) # t is the transmissivity.\n",
        "        vac = Photon()\n",
        "        vac.prepareVacuum()\n",
        "        self.alpha = (self.alpha)*t + (vac.alpha)*r\n",
        "        self.beta  = (self.beta )*t + (vac.beta)*r"
      ]
    },
    {
      "cell_type": "code",
      "execution_count": null,
      "metadata": {
        "collapsed": true,
        "id": "Cwl1M8xUZvtX"
      },
      "outputs": [],
      "source": []
    },
    {
      "cell_type": "code",
      "execution_count": null,
      "metadata": {
        "collapsed": true,
        "id": "2jzAiZ34ZvtX"
      },
      "outputs": [],
      "source": [
        "n = 100 # number of photons"
      ]
    },
    {
      "cell_type": "code",
      "execution_count": null,
      "metadata": {
        "collapsed": true,
        "id": "YoSA29KXZvtX"
      },
      "outputs": [],
      "source": []
    },
    {
      "cell_type": "code",
      "execution_count": null,
      "metadata": {
        "collapsed": true,
        "id": "XE8OzBqlZvtY",
        "colab": {
          "base_uri": "https://localhost:8080/"
        },
        "outputId": "047bcb2d-a45e-4079-b6c3-a05da85db614"
      },
      "outputs": [
        {
          "output_type": "stream",
          "name": "stdout",
          "text": [
            "1001001100110011111110001100001000010101110100011111100011011101011000101100000010011000011000001000\n"
          ]
        }
      ],
      "source": [
        "# Alice --------------------------------------------\n",
        "\n",
        "# Alice generates the raw key.\n",
        "keyAlice = \"\"\n",
        "for i in range(n): # Iterate over the number of photons.\n",
        "    # Append a random character ('0' or '1') to the end.\n",
        "    if random.randint(0,1)==0: # Flip a coin (0 or 1).\n",
        "        keyAlice += '0'\n",
        "    else:\n",
        "        keyAlice += '1'\n",
        "print(keyAlice)"
      ]
    },
    {
      "cell_type": "code",
      "execution_count": null,
      "metadata": {
        "collapsed": true,
        "id": "Z2BvWiy6ZvtY",
        "colab": {
          "base_uri": "https://localhost:8080/"
        },
        "outputId": "9e20687a-d42a-4b05-86be-bb3d441f9741"
      },
      "outputs": [
        {
          "output_type": "stream",
          "name": "stdout",
          "text": [
            "xx++xx++xxxx++xx+xx+x+x++++x++++xxx++xx++++xx+xx+xxxx++x+x+++x+++++x+x+xx+++++x++++x+x+xx+++x+x+x+x+\n"
          ]
        }
      ],
      "source": [
        "# Alice chooses the encoding basis for each key bit.\n",
        "# This should be a string of '+'s and 'x's with '+'=H/V, 'x'=D/A.\n",
        "basisAlice = \"\"\n",
        "# TODO: Put your code here.\n",
        "for x in range(n):\n",
        "  if random.randint(0,1) == 0:\n",
        "    basisAlice += \"+\"\n",
        "  else:\n",
        "    basisAlice += \"x\"\n",
        "print(basisAlice)"
      ]
    },
    {
      "cell_type": "code",
      "execution_count": null,
      "metadata": {
        "collapsed": true,
        "id": "1oyRGKaEZvtY",
        "colab": {
          "base_uri": "https://localhost:8080/"
        },
        "outputId": "06132ae2-255a-4bab-b983-b5e1bb2db53b"
      },
      "outputs": [
        {
          "output_type": "stream",
          "name": "stdout",
          "text": [
            "ADVHDDHHDDAAVVAAHAAHAVDVHHVDVVHVDDDHVADHHHVADVDAHAAAAVVDHAVHHAVHVHHDVDHDAHVVVVDVHVVAHDVDDHHVDVDVAVDV\n"
          ]
        }
      ],
      "source": [
        "# Alice selects a photon state according to the key and basis.\n",
        "# This should be a string of the characters 'H', 'V', 'D', 'A'.\n",
        "photonAlice = \"\"\n",
        "# TODO: Put your code here.\n",
        "for x in range(n):\n",
        "  if keyAlice[x] == '0':\n",
        "    if basisAlice[x] == \"x\":\n",
        "      photonAlice += \"D\"\n",
        "    else:\n",
        "      photonAlice += \"V\"\n",
        "  else:\n",
        "    if basisAlice[x] == \"x\":\n",
        "      photonAlice += \"A\"\n",
        "    else:\n",
        "      photonAlice += \"H\"\n",
        "print(photonAlice)"
      ]
    },
    {
      "cell_type": "code",
      "execution_count": null,
      "metadata": {
        "collapsed": true,
        "id": "PP3VzSuwZvtY"
      },
      "outputs": [],
      "source": [
        "# Alice prepares and sends each photon.\n",
        "# Use the methods of the Photon class to prepare each photon.\n",
        "photonArray = [Photon() for i in range(n)]\n",
        "# TODO: Put your code here.\n",
        "for x in range(n):\n",
        "  if photonAlice[x] == \"H\":\n",
        "    photonArray[x].prepareH(1)\n",
        "  elif photonAlice[x] == \"V\":\n",
        "    photonArray[x].prepareV(1)\n",
        "  elif photonAlice[x] == \"D\":\n",
        "    photonArray[x].prepareD(1)\n",
        "  else:\n",
        "    photonArray[x].prepareA(1)"
      ]
    },
    {
      "cell_type": "code",
      "execution_count": null,
      "metadata": {
        "collapsed": true,
        "id": "zByVe4zyZvtZ"
      },
      "outputs": [],
      "source": []
    },
    {
      "cell_type": "code",
      "execution_count": null,
      "metadata": {
        "collapsed": true,
        "id": "JlrSgPGNZvtZ"
      },
      "outputs": [],
      "source": [
        "# Eve   --------------------------------------------\n",
        "\n",
        "# You should implement this section after completing Alice and Bob.\n",
        "# Eve is allowed to do whatever she wants to the photonAlice array.\n",
        "# She cannot, however, have knowledge of Alice's or Bob's choice of bases,\n",
        "# nor Bob's measurement outcomes, until they are publicly announced."
      ]
    },
    {
      "cell_type": "code",
      "execution_count": null,
      "metadata": {
        "collapsed": true,
        "id": "Nn_u3kk1ZvtZ",
        "colab": {
          "base_uri": "https://localhost:8080/"
        },
        "outputId": "de92ff62-f15c-4f61-d0c7-d6f697694393"
      },
      "outputs": [
        {
          "output_type": "stream",
          "name": "stdout",
          "text": [
            "0101010101010101010101010101010101010101010101010101010101010101010101010101010101010101010101010101\n"
          ]
        }
      ],
      "source": [
        "# Eve selects a subsample of photons from Alice to measure.\n",
        "# interceptIndex should be a string of n characters.\n",
        "# Use the convention '0'=ignored, '1'=intercepted\n",
        "interceptIndex = \"\"\n",
        "# TODO: Put your code here.\n",
        "for x in range(n):\n",
        "  if x % 2 == 0:\n",
        "    interceptIndex += \"0\"\n",
        "  else:\n",
        "    interceptIndex += \"1\"\n",
        "print(interceptIndex)"
      ]
    },
    {
      "cell_type": "code",
      "execution_count": null,
      "metadata": {
        "collapsed": true,
        "id": "JZb2iecOZvtZ",
        "colab": {
          "base_uri": "https://localhost:8080/"
        },
        "outputId": "ee3f7236-c67e-4984-f10a-c4a0bdfbd162"
      },
      "outputs": [
        {
          "output_type": "stream",
          "name": "stdout",
          "text": [
            " + x + x x + + x x + x + x x + + x x x x + + + + x x + x + + + + x x + + + x x + x + + x + + x x x x\n"
          ]
        }
      ],
      "source": [
        "# Eve chooses a basis to measure each intercepted photon.\n",
        "# basisEve should be a string of n characters.\n",
        "# Use the convention '+'=H/V, 'x'=D/A, ' '=not measured\n",
        "basisEve = \"\"\n",
        "# TODO: Put your code here.\n",
        "for i in range(n):\n",
        "  rand = random.randint(0,1)\n",
        "  if interceptIndex[i] == \"1\":\n",
        "    if rand == 0:\n",
        "      basisEve += \"+\"\n",
        "    elif rand == 1:\n",
        "      basisEve += \"x\"\n",
        "  else:\n",
        "    basisEve += \" \"\n",
        "\n",
        "print(basisEve)"
      ]
    },
    {
      "cell_type": "code",
      "execution_count": null,
      "metadata": {
        "collapsed": true,
        "id": "5TpZVwaVZvta",
        "colab": {
          "base_uri": "https://localhost:8080/"
        },
        "outputId": "cd69c65c-e825-4714-ed9a-4fe16c0672d0"
      },
      "outputs": [
        {
          "output_type": "stream",
          "name": "stdout",
          "text": [
            " V   H A D         H   V A D     D           V V   A   D V H   H A       H   A V         H H A   A  \n"
          ]
        }
      ],
      "source": [
        "# Eve performs a measurement on each photon.\n",
        "# outcomeEve should be a string of n characters.\n",
        "# Use the convention 'H','V','D','A', ' '=not measured\n",
        "outcomeEve = \"\"\n",
        "# TODO: Put your code here.\n",
        "for i in range(n):\n",
        "  if interceptIndex[i] == \"1\":\n",
        "    if basisEve[i] == \"+\":\n",
        "      outcomeEve += str(photonArray[i].measureHV(.75))\n",
        "    elif basisEve[i] == \"x\":\n",
        "      outcomeEve += str(photonArray[i].measureDA(.75))\n",
        "  else:\n",
        "    outcomeEve += \" \"\n",
        "\n",
        "outcomeEve = outcomeEve.replace(\"M\", \" \")\n",
        "outcomeEve = outcomeEve.replace(\"N\", \" \")\n",
        "print(outcomeEve)"
      ]
    },
    {
      "cell_type": "code",
      "execution_count": null,
      "metadata": {
        "collapsed": true,
        "id": "dW_PurHbZvta"
      },
      "outputs": [],
      "source": [
        "# Eve resends photons to Bob.\n",
        "# Be sure to handle the cases in which Eve gets an invalid measurement.\n",
        "# TODO: Put your code here.\n",
        "for i in range(n): # send what we think it is\n",
        "  if outcomeEve[i] == \"H\":\n",
        "    photonArray[i].prepareH(1)\n",
        "  elif outcomeEve[i] == \"V\":\n",
        "    photonArray[i].prepareV(1)\n",
        "  elif outcomeEve[i] == \"D\":\n",
        "    photonArray[i].prepareD(1)\n",
        "  elif outcomeEve[i] == \"A\":\n",
        "    photonArray[i].prepareA(1)\n",
        "  elif interceptIndex == \"1\" and outcomeEve[i] == \" \": # send random\n",
        "    rand = random.randint(0,1)\n",
        "    if basisEve[i] == \"+\":\n",
        "      if rand == 0:\n",
        "        photonArray[i].prepareH(1)\n",
        "      else:\n",
        "        photonArray[i].prepareV(1)\n",
        "    elif basisEve[i] == \"x\":\n",
        "      if rand == 0:\n",
        "        photonArray[i].prepareD(1)\n",
        "      else:\n",
        "        photonArray[i].prepareA(1)\n"
      ]
    },
    {
      "cell_type": "code",
      "execution_count": null,
      "metadata": {
        "collapsed": true,
        "id": "32CO67XSZvta"
      },
      "outputs": [],
      "source": [
        "# OPTIONAL: Put any other nasty tricks here."
      ]
    },
    {
      "cell_type": "code",
      "execution_count": null,
      "metadata": {
        "collapsed": true,
        "id": "0vZPvijAZvta"
      },
      "outputs": [],
      "source": []
    },
    {
      "cell_type": "code",
      "execution_count": null,
      "metadata": {
        "id": "nXuROD_KZvta",
        "colab": {
          "base_uri": "https://localhost:8080/"
        },
        "outputId": "f8a1eb93-7328-4025-8e1a-859c9a731dfe"
      },
      "outputs": [
        {
          "output_type": "stream",
          "name": "stdout",
          "text": [
            "+xx+++xx+++++xx++++x+xxxx+xx+xxx+x++xxx+xxx+x+x+xxxx++xxx++xx++xxx+x++x++x+x++x++x+xx++x+xx+x++++xxx\n"
          ]
        }
      ],
      "source": [
        "# Bob   --------------------------------------------\n",
        "\n",
        "# Bob chooses a basis to measure each photon.\n",
        "# This should be a string of '+'s and 'x's with '+'=H/V, 'x'=D/A.\n",
        "basisBob = \"\"\n",
        "# TODO: Put your code here.\n",
        "for x in range(n):\n",
        "  if random.randint(0,1) == 0:\n",
        "    basisBob += \"+\"\n",
        "  else:\n",
        "    basisBob += \"x\"\n",
        "print(basisBob)"
      ]
    },
    {
      "cell_type": "code",
      "execution_count": null,
      "metadata": {
        "id": "EJop8vFvZvta",
        "colab": {
          "base_uri": "https://localhost:8080/"
        },
        "outputId": "a43eab36-93fe-4404-9a47-a81f69d90925"
      },
      "outputs": [
        {
          "output_type": "stream",
          "name": "stdout",
          "text": [
            "VDA VHD   VV DAV H D DA  HA V    D V A HD D  VDH DA H   A V    A    V D   V VH  HAV A VD A V    V  D\n"
          ]
        }
      ],
      "source": [
        "# Bob performs a measurement on each photon.\n",
        "# Use the methods of the Photon class to measure each photon.\n",
        "# outcomeBob should be a string of n characters.\n",
        "# Use the convention 'H','V','D','A', ' '=not measured\n",
        "outcomeBob = \"\"\n",
        "# TODO: Put your code here.\n",
        "for x in range(n):\n",
        "  if basisBob[x] == \"+\":\n",
        "    store_val = photonArray[x].measureHV(0.5)\n",
        "    if store_val == 'N' or store_val == 'M':\n",
        "      outcomeBob += ' '\n",
        "    else:\n",
        "      outcomeBob += store_val\n",
        "  else:\n",
        "    store_val = photonArray[x].measureDA(0.5)\n",
        "    if store_val == 'N' or store_val == 'M':\n",
        "      outcomeBob += ' '\n",
        "    else:\n",
        "      outcomeBob += store_val\n",
        "print(outcomeBob)"
      ]
    },
    {
      "cell_type": "code",
      "execution_count": null,
      "metadata": {
        "collapsed": true,
        "id": "0gGCyV0nZvta",
        "colab": {
          "base_uri": "https://localhost:8080/"
        },
        "outputId": "074592da-ae14-4af4-bf0d-11c778369e01"
      },
      "outputs": [
        {
          "output_type": "stream",
          "name": "stdout",
          "text": [
            "001-010---00-010-1-0-01--11-0----0-0-1-10-0--001-01-1---1-0----1----0-0---0-01--110-1-00-1-0----0--0\n"
          ]
        }
      ],
      "source": [
        "# Bob infers the raw key.\n",
        "# keyBob should be a string of n characters.\n",
        "# Use the convention '0', '1', '-'=invalid measurement\n",
        "keyBob = \"\"\n",
        "# TODO: Put your code here.\n",
        "for x in range(n):\n",
        "  if outcomeBob[x] == ' ':\n",
        "    keyBob += '-'\n",
        "  elif basisBob[x] == \"+\":\n",
        "    if outcomeBob[x] == \"H\":\n",
        "      keyBob += '1'\n",
        "    else:\n",
        "      keyBob += '0'\n",
        "  else:\n",
        "    if outcomeBob[x] == \"A\":\n",
        "      keyBob += '1'\n",
        "    else:\n",
        "      keyBob += '0'\n",
        "print(keyBob)"
      ]
    },
    {
      "cell_type": "code",
      "execution_count": null,
      "metadata": {
        "collapsed": true,
        "id": "Y7wJGnQ4Zvtb"
      },
      "outputs": [],
      "source": []
    },
    {
      "cell_type": "code",
      "execution_count": null,
      "metadata": {
        "collapsed": true,
        "id": "1zGtLaTnZvtb"
      },
      "outputs": [],
      "source": [
        "# -----------------------------------------------------------\n",
        "# Alice and Bob now publicly announce which bases they chose.\n",
        "# Bob also announces which of his measurements were invalid.\n",
        "# -----------------------------------------------------------"
      ]
    },
    {
      "cell_type": "code",
      "execution_count": null,
      "metadata": {
        "collapsed": true,
        "id": "ZyyM_NDGZvtb",
        "colab": {
          "base_uri": "https://localhost:8080/"
        },
        "outputId": "0a04ba96-fafd-4ef2-d769-1e1dc7600adf"
      },
      "outputs": [
        {
          "output_type": "stream",
          "name": "stdout",
          "text": [
            "siftedAlice = 010110100011010001110000100000001010000000\n",
            "siftedBob   = 0  1 11 0001 1 0001   0   0001  10 000    \n"
          ]
        }
      ],
      "source": [
        "# Alice & Bob ----------------------------------------------------------\n",
        "\n",
        "# Alice and Bob extract their sifted keys.\n",
        "# siftedAlice and siftedBob should be strings of length n.\n",
        "# Use the convention '0', '1', ' '=removed\n",
        "siftedAlice = \"\"\n",
        "siftedBob   = \"\"\n",
        "# TODO: Put your code here.\n",
        "for x in range(n):\n",
        "  if basisAlice[x] == basisBob[x]:\n",
        "    siftedAlice += keyAlice[x]\n",
        "    siftedBob += (' ' if keyBob[x] == '-' else keyBob[x])\n",
        "\n",
        "print(\"siftedAlice = \" + siftedAlice)\n",
        "print(\"siftedBob   = \" + siftedBob)"
      ]
    },
    {
      "cell_type": "code",
      "execution_count": null,
      "metadata": {
        "collapsed": true,
        "id": "6EDViRyeZvtb",
        "colab": {
          "base_uri": "https://localhost:8080/"
        },
        "outputId": "e100a7bd-06e8-482f-c87d-50cb3ecb5206"
      },
      "outputs": [
        {
          "output_type": "stream",
          "name": "stdout",
          "text": [
            "0010010101100000101000111101111011001011100101001000101111110111001101010000011011110100000100111011\n",
            "0.25\n"
          ]
        }
      ],
      "source": [
        "# Alice and Bob use a portion of their sifted keys to estimate the quantum bit error rate (QBER).\n",
        "# sampleIndex should be a string of n characters.\n",
        "# Use the convention '0'=ignored, '1'=sampled\n",
        "# The QBER is the fraction of mismatches within the sampled portion.\n",
        "# For large samples, it should be close to the actual QBER,\n",
        "# which Alice and Bob, of course, do not know.\n",
        "\n",
        "# TODO: Put your code here.\n",
        "sampleIndex = \"\"\n",
        "for i in range(n):\n",
        "    if random.randint(0,1) == 0:\n",
        "        sampleIndex += '0'\n",
        "    else:\n",
        "        sampleIndex += '1'\n",
        "print(sampleIndex)\n",
        "sampledBobQBER = 0\n",
        "errors = 0\n",
        "total = 0\n",
        "for i in range(len(siftedAlice)):\n",
        "    if sampleIndex[i] == '1' and siftedBob[i] != ' ':\n",
        "        total += 1\n",
        "        if siftedAlice[i] != siftedBob[i]:\n",
        "            errors += 1\n",
        "sampledBobQBER = errors / total\n",
        "print(sampledBobQBER)"
      ]
    },
    {
      "cell_type": "code",
      "execution_count": null,
      "metadata": {
        "collapsed": true,
        "id": "NN2_K0cGZvtb",
        "colab": {
          "base_uri": "https://localhost:8080/"
        },
        "outputId": "524de96a-a2b6-4719-f80e-34e07e2521a5"
      },
      "outputs": [
        {
          "output_type": "stream",
          "name": "stdout",
          "text": [
            "  0  0 0 01     0 1   0010 0000 10  0 000 \n",
            "     1   00     0 1   0    001  10  0     \n"
          ]
        }
      ],
      "source": [
        "# Alice and Bob remove the portion of their sifted keys that was sampled.\n",
        "# Since a portion of the sifted key was publicly revealed, it cannot be used.\n",
        "# secureAlice and secureBob should be strings of length n.\n",
        "# Use the convention '0', '1', ' '=removed\n",
        "secureAlice = \"\"\n",
        "secureBob = \"\"\n",
        "# TODO: Put your code here.\n",
        "for i in range(len(siftedAlice)):\n",
        "    if sampleIndex[i] == '0':\n",
        "        secureAlice += ' '\n",
        "        secureBob += ' '\n",
        "    else:\n",
        "        secureAlice += siftedAlice[i]\n",
        "        secureBob += siftedBob[i]\n",
        "print(secureAlice)\n",
        "print(secureBob)"
      ]
    },
    {
      "cell_type": "code",
      "execution_count": null,
      "metadata": {
        "collapsed": true,
        "id": "Tq7qTX1OZvtc",
        "colab": {
          "base_uri": "https://localhost:8080/"
        },
        "outputId": "cc27f981-97b2-4985-a346-a3f5cb17cc9d"
      },
      "outputs": [
        {
          "output_type": "stream",
          "name": "stdout",
          "text": [
            "True\n",
            "0.25\n"
          ]
        }
      ],
      "source": [
        "# Alice and Bob make a hard determination whether the channel is secure.\n",
        "# If it looks like there's something fishy, better hit the kill switch!\n",
        "channelSecure = True # default value, to be changed to False if Eve suspected\n",
        "# TODO: Put your code here.\n",
        "# Subject to change.\n",
        "secureThreshold = 0.3\n",
        "if sampledBobQBER > secureThreshold:\n",
        "    channelSecure = False\n",
        "print(channelSecure)\n",
        "print(sampledBobQBER)"
      ]
    },
    {
      "cell_type": "code",
      "execution_count": null,
      "metadata": {
        "collapsed": true,
        "id": "Uy0x7ytAZvte"
      },
      "outputs": [],
      "source": []
    },
    {
      "cell_type": "code",
      "execution_count": null,
      "metadata": {
        "collapsed": true,
        "id": "kmW4fWWEZvte"
      },
      "outputs": [],
      "source": [
        "# Eve ------------------------------------------------------------------"
      ]
    },
    {
      "cell_type": "code",
      "execution_count": null,
      "metadata": {
        "collapsed": true,
        "id": "ywKmUL66Zvtf",
        "colab": {
          "base_uri": "https://localhost:8080/"
        },
        "outputId": "fefb7f9b-41b0-4ec1-9cc8-91a463d74887"
      },
      "outputs": [
        {
          "output_type": "stream",
          "name": "stdout",
          "text": [
            " 1 - 0 1 0 - - - - 0 - 1 1 0 - - 0 - - - - - 1 1 - 1 - 0 1 0 - 0 1 - - - 0 - 1 1 - - - - 0 0 1 - 1 -\n"
          ]
        }
      ],
      "source": [
        "# Eve infers the raw key.\n",
        "# keyEve should be a string of n characters.\n",
        "# Use the convention '0', '1', '-'=invalid measurement, ' '=not measured\n",
        "keyEve = \"\"\n",
        "# TODO: Put your code here.\n",
        "for i in range(n):\n",
        "  if interceptIndex[i] == \"1\":\n",
        "    if outcomeEve[i] == \" \":\n",
        "      keyEve += \"-\"\n",
        "    elif outcomeEve[i] == \"H\" or outcomeEve[i] == \"D\":\n",
        "      keyEve += \"0\"\n",
        "    else:\n",
        "      keyEve += \"1\"\n",
        "  else:\n",
        "    keyEve += \" \"\n",
        "\n",
        "print(keyEve)"
      ]
    },
    {
      "cell_type": "code",
      "execution_count": null,
      "metadata": {
        "collapsed": true,
        "id": "rhA8RHF7Zvtf",
        "colab": {
          "base_uri": "https://localhost:8080/"
        },
        "outputId": "cf153c75-f4c8-4862-a613-1341f62fed44"
      },
      "outputs": [
        {
          "output_type": "stream",
          "name": "stdout",
          "text": [
            "42\n",
            "                   1           1          \n",
            "42\n"
          ]
        }
      ],
      "source": [
        "# Eve extracts her sifted key.\n",
        "# Knowing what Alice and Bob have publically revealed, Eve\n",
        "# now selects which portion of her sifted key to keep.\n",
        "# stolenEve should be strings of length n.\n",
        "# Use the '0', '1', ' '=removed\n",
        "stolenEve = \"\"\n",
        "# TODO: Put your code here.\n",
        "count = 0\n",
        "for i in range(n):\n",
        "  if basisAlice[i] == basisBob[i]:\n",
        "    if sampleIndex[i] == \"0\":\n",
        "      if keyEve[i] == \" \" or keyEve[i] == \"-\": # bad values\n",
        "        stolenEve += \" \"\n",
        "      # public basis\n",
        "      elif basisEve[i] != basisBob[i]:\n",
        "        stolenEve += \" \"\n",
        "      else:\n",
        "        stolenEve += keyEve[i]\n",
        "    else:\n",
        "      stolenEve += \" \"\n",
        "\n",
        "print(len(stolenEve))\n",
        "print(stolenEve)\n",
        "print(len(secureAlice))"
      ]
    },
    {
      "cell_type": "code",
      "execution_count": null,
      "metadata": {
        "collapsed": true,
        "id": "-KexLZZ2Zvtf"
      },
      "outputs": [],
      "source": []
    },
    {
      "cell_type": "code",
      "execution_count": null,
      "metadata": {
        "collapsed": true,
        "id": "0ewYc4BfZvtf",
        "colab": {
          "base_uri": "https://localhost:8080/"
        },
        "outputId": "c18293b1-6108-4a97-d73b-a9d49a996ef3"
      },
      "outputs": [
        {
          "output_type": "stream",
          "name": "stdout",
          "text": [
            "\n",
            "basisAlice  = xx++xx++xxxx++xx+xx+x+x++++x++++xxx++xx++++xx+xx+xxxx++x+x+++x+++++x+x+xx+++++x++++x+x+xx+++x+x+x+x+\n",
            "basisBob    = +xx+++xx+++++xx++++x+xxxx+xx+xxx+x++xxx+xxx+x+x+xxxx++xxx++xx++xxx+x++x++x+x++x++x+xx++x+xx+x++++xxx\n",
            "basisEve    =  + x + x x + + x x + x + x x + + x x x x + + + + x x + x + + + + x x + + + x x + x + + x + + x x x x\n",
            "\n",
            "keyAlice    = 1001001100110011111110001100001000010101110100011111100011011101011000101100000010011000011000001000\n",
            "keyBob      = 001-010---00-010-1-0-01--11-0----0-0-1-10-0--001-01-1---1-0----1----0-0---0-01--110-1-00-1-0----0--0\n",
            "keyEve      =  1 - 0 1 0 - - - - 0 - 1 1 0 - - 0 - - - - - 1 1 - 1 - 0 1 0 - 0 1 - - - 0 - 1 1 - - - - 0 0 1 - 1 -\n",
            "\n",
            "siftedAlice = 010110100011010001110000100000001010000000\n",
            "siftedBob   = 0  1 11 0001 1 0001   0   0001  10 000    \n",
            "\n",
            "secureAlice =   0  0 0 01     0 1   0010 0000 10  0 000 \n",
            "secureBob   =      1   00     0 1   0    001  10  0     \n",
            "stolenEve   =                    1           1          \n",
            "\n",
            "sampledBobQBER = 0.25\n",
            "actualBobQBER  = 0.5714285714285714\n",
            "actualEveQBER  = 1.0\n",
            "\n",
            "secureKeyRateBob = 90.0 kbps\n",
            "stolenKeyRateEve = 0.0 kbps\n"
          ]
        }
      ],
      "source": [
        "# ANALYSIS -------------------------------------------------------------\n",
        "\n",
        "# Below is a standard set of metrics to evaluate each protocol.\n",
        "# You need not change any of what follows.\n",
        "\n",
        "# Compare Alice and Bob's sifted keys.\n",
        "numMatchBob = 0\n",
        "actualBobQBER = 0\n",
        "secureKeyRateBob = 0\n",
        "secureKeyLengthBob = 0\n",
        "for i in range(len(secureAlice)):\n",
        "    if secureAlice[i] != ' ':\n",
        "       secureKeyLengthBob += 1\n",
        "       if secureAlice[i] == secureBob[i]:\n",
        "           numMatchBob += 1\n",
        "\n",
        "# Compute the actual quantum bit error rate for Bob.\n",
        "if secureKeyLengthBob > 0:\n",
        "    actualBobQBER = 1 - numMatchBob / secureKeyLengthBob\n",
        "else:\n",
        "    actualBobQBER = float('nan')\n",
        "# Compute the secure key rate, assuming each trial takes 1 microsecond.\n",
        "secureKeyRateBob = (1-actualBobQBER) * secureKeyLengthBob / n * 1e6;\n",
        "\n",
        "# Compare Alice and Eve's sifted keys.\n",
        "numMatchEve = 0\n",
        "actualEveQBER = 0\n",
        "stolenKeyRateEve = 0\n",
        "stolenKeyLengthEve = 0\n",
        "for i in range(len(stolenEve)):\n",
        "    if stolenEve[i] != ' ':\n",
        "       stolenKeyLengthEve += 1\n",
        "       if secureAlice[i] == stolenEve[i]:\n",
        "           numMatchEve += 1\n",
        "# Compute the actual quantum bit error rate for Eve.\n",
        "if stolenKeyLengthEve > 0:\n",
        "    actualEveQBER = 1 - numMatchEve / stolenKeyLengthEve\n",
        "else:\n",
        "    actualEveQBER = float('nan')\n",
        "# Compute the stolen key rate, assuming each trial takes 1 microsecond.\n",
        "stolenKeyRateEve = (1-actualEveQBER) * stolenKeyLengthEve / n * 1e6;\n",
        "\n",
        "\n",
        "# DISPLAY RESULTS ------------------------------------------------------\n",
        "\n",
        "print(\"\")\n",
        "print(\"basisAlice  = \" + basisAlice)\n",
        "print(\"basisBob    = \" + basisBob)\n",
        "print(\"basisEve    = \" + basisEve)\n",
        "print(\"\")\n",
        "print(\"keyAlice    = \" + keyAlice)\n",
        "print(\"keyBob      = \" + keyBob)\n",
        "print(\"keyEve      = \" + keyEve)\n",
        "print(\"\")\n",
        "print(\"siftedAlice = \" + siftedAlice)\n",
        "print(\"siftedBob   = \" + siftedBob)\n",
        "print(\"\")\n",
        "print(\"secureAlice = \" + secureAlice)\n",
        "print(\"secureBob   = \" + secureBob)\n",
        "print(\"stolenEve   = \" + stolenEve)\n",
        "print(\"\")\n",
        "if not channelSecure:\n",
        "    secureKeyRateBob = 0;\n",
        "    stolenKeyRateEve = 0;\n",
        "    print(\"*********************************************\")\n",
        "    print(\"* ALERT! The quantum channel is not secure. *\")\n",
        "    print(\"*********************************************\")\n",
        "    print(\"\")\n",
        "print(\"sampledBobQBER = \" + str(sampledBobQBER))\n",
        "print(\"actualBobQBER  = \" + str(actualBobQBER))\n",
        "print(\"actualEveQBER  = \" + str(actualEveQBER))\n",
        "print(\"\")\n",
        "print(\"secureKeyRateBob = \" + str(secureKeyRateBob/1000) + \" kbps\")\n",
        "print(\"stolenKeyRateEve = \" + str(stolenKeyRateEve/1000) + \" kbps\")\n",
        "\n",
        "# Your goal is to maximize secureKeyRateBob and minimize stolenKeyRateEve."
      ]
    },
    {
      "cell_type": "code",
      "source": [],
      "metadata": {
        "id": "W6b6qfU_V3jz"
      },
      "execution_count": null,
      "outputs": []
    }
  ],
  "metadata": {
    "kernelspec": {
      "display_name": "Python 3",
      "language": "python",
      "name": "python3"
    },
    "language_info": {
      "codemirror_mode": {
        "name": "ipython",
        "version": 3
      },
      "file_extension": ".py",
      "mimetype": "text/x-python",
      "name": "python",
      "nbconvert_exporter": "python",
      "pygments_lexer": "ipython3",
      "version": "3.6.3"
    },
    "colab": {
      "provenance": []
    }
  },
  "nbformat": 4,
  "nbformat_minor": 0
}